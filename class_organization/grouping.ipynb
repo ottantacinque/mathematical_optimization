{
 "cells": [
  {
   "cell_type": "markdown",
   "id": "c9d0dfc2",
   "metadata": {},
   "source": [
    "# 交流会のグループ分け "
   ]
  },
  {
   "cell_type": "markdown",
   "id": "6ac10f3a",
   "metadata": {},
   "source": [
    "数理最適化用のモジュール **PuLP** を使ってグループ分けの最適化を勉強したので、その備忘録として記事にしました。\n",
    "下記の本を参考にしています。\n",
    "\n",
    "（PulPについては、こちらの [Qiitaの記事](https://qiita.com/SaitoTsutomu/items/070ca9cb37c6b2b492f0)参照）\n",
    "\n",
    "## 最適化したい課題\n",
    "\n",
    "グループディスカッション形式の社内交流会において、そのグループ分けを行いたい。\n",
    "参加者は、社内のさまざま部署、勤務地から参加しているため、**なるべく同じ部署・勤務地の人が同じグループにならない**といった制約や、**前回の交流会で同じグループになった方は今回は違うグループに振り分けたい**、などいくつか条件があるのでそれを満たしつつ、いい感じにグループを振り分けたい。というもの\n",
    "\n",
    "\n",
    "### 数理最適化条件を列挙してみる\n",
    "- 1グループあたりの人数：8人\n",
    "- 同じ部署の人が同じグループにならないようにする\n",
    "- 同じ勤務地の人が同じグループにならないようにする\n",
    "- 過去同じグループになった人が同じグループにならないようにする\n",
    "- 勤続年数がバラけるように振り分ける"
   ]
  },
  {
   "cell_type": "markdown",
   "id": "88914d39",
   "metadata": {},
   "source": [
    "## 前準備"
   ]
  },
  {
   "cell_type": "markdown",
   "id": "b86e941f",
   "metadata": {},
   "source": [
    "### モジュールインポート"
   ]
  },
  {
   "cell_type": "code",
   "execution_count": 52,
   "id": "c395edb4",
   "metadata": {},
   "outputs": [],
   "source": [
    "import pandas as pd\n",
    "import pulp\n",
    "import itertools\n",
    "import math\n",
    "import matplotlib.pyplot as plt"
   ]
  },
  {
   "cell_type": "markdown",
   "id": "139871ef",
   "metadata": {},
   "source": [
    "### ファイル読み込み"
   ]
  },
  {
   "cell_type": "code",
   "execution_count": 53,
   "id": "c51e62a2",
   "metadata": {},
   "outputs": [],
   "source": [
    "# ファイル読み込み\n",
    "df = pd.read_excel(r'22年度交流会参加者_ダミーデータ.xlsx',dtype='str')\n",
    "\n",
    "# 前処理\n",
    "df.dropna(how='all',axis=1,inplace=True)\n",
    "df.dropna(how='all',axis=0,inplace=True)\n",
    "\n",
    "df['年目'] = df['年目'].astype(int)"
   ]
  },
  {
   "cell_type": "code",
   "execution_count": 54,
   "id": "a3154b9d",
   "metadata": {},
   "outputs": [
    {
     "data": {
      "text/html": [
       "<div>\n",
       "<style scoped>\n",
       "    .dataframe tbody tr th:only-of-type {\n",
       "        vertical-align: middle;\n",
       "    }\n",
       "\n",
       "    .dataframe tbody tr th {\n",
       "        vertical-align: top;\n",
       "    }\n",
       "\n",
       "    .dataframe thead th {\n",
       "        text-align: right;\n",
       "    }\n",
       "</style>\n",
       "<table border=\"1\" class=\"dataframe\">\n",
       "  <thead>\n",
       "    <tr style=\"text-align: right;\">\n",
       "      <th></th>\n",
       "      <th>社員番号</th>\n",
       "      <th>年目</th>\n",
       "      <th>部署名</th>\n",
       "      <th>氏名</th>\n",
       "      <th>勤務地</th>\n",
       "      <th>21年度の班</th>\n",
       "    </tr>\n",
       "  </thead>\n",
       "  <tbody>\n",
       "    <tr>\n",
       "      <th>0</th>\n",
       "      <td>0000</td>\n",
       "      <td>18</td>\n",
       "      <td>a部署</td>\n",
       "      <td>田中 直人</td>\n",
       "      <td>大阪</td>\n",
       "      <td>4</td>\n",
       "    </tr>\n",
       "    <tr>\n",
       "      <th>1</th>\n",
       "      <td>0001</td>\n",
       "      <td>15</td>\n",
       "      <td>a部署</td>\n",
       "      <td>森 あすか</td>\n",
       "      <td>東京</td>\n",
       "      <td>7</td>\n",
       "    </tr>\n",
       "    <tr>\n",
       "      <th>2</th>\n",
       "      <td>0002</td>\n",
       "      <td>1</td>\n",
       "      <td>b部署</td>\n",
       "      <td>井上 あすか</td>\n",
       "      <td>東京</td>\n",
       "      <td>9</td>\n",
       "    </tr>\n",
       "    <tr>\n",
       "      <th>3</th>\n",
       "      <td>0003</td>\n",
       "      <td>9</td>\n",
       "      <td>c部署</td>\n",
       "      <td>鈴木 陽子</td>\n",
       "      <td>名古屋</td>\n",
       "      <td>8</td>\n",
       "    </tr>\n",
       "    <tr>\n",
       "      <th>4</th>\n",
       "      <td>0004</td>\n",
       "      <td>8</td>\n",
       "      <td>d部署</td>\n",
       "      <td>岡田 香織</td>\n",
       "      <td>東京</td>\n",
       "      <td>8</td>\n",
       "    </tr>\n",
       "  </tbody>\n",
       "</table>\n",
       "</div>"
      ],
      "text/plain": [
       "   社員番号  年目  部署名      氏名  勤務地 21年度の班\n",
       "0  0000  18  a部署   田中 直人   大阪      4\n",
       "1  0001  15  a部署   森 あすか   東京      7\n",
       "2  0002   1  b部署  井上 あすか   東京      9\n",
       "3  0003   9  c部署   鈴木 陽子  名古屋      8\n",
       "4  0004   8  d部署   岡田 香織   東京      8"
      ]
     },
     "execution_count": 54,
     "metadata": {},
     "output_type": "execute_result"
    }
   ],
   "source": [
    "df.head()"
   ]
  },
  {
   "cell_type": "markdown",
   "id": "4b8c2ad8",
   "metadata": {},
   "source": [
    "### 過去に同じグループになった人同士のリストをつくる"
   ]
  },
  {
   "cell_type": "code",
   "execution_count": 55,
   "id": "657f9425",
   "metadata": {},
   "outputs": [
    {
     "data": {
      "text/html": [
       "<div>\n",
       "<style scoped>\n",
       "    .dataframe tbody tr th:only-of-type {\n",
       "        vertical-align: middle;\n",
       "    }\n",
       "\n",
       "    .dataframe tbody tr th {\n",
       "        vertical-align: top;\n",
       "    }\n",
       "\n",
       "    .dataframe thead th {\n",
       "        text-align: right;\n",
       "    }\n",
       "</style>\n",
       "<table border=\"1\" class=\"dataframe\">\n",
       "  <thead>\n",
       "    <tr style=\"text-align: right;\">\n",
       "      <th></th>\n",
       "      <th>0</th>\n",
       "      <th>1</th>\n",
       "    </tr>\n",
       "  </thead>\n",
       "  <tbody>\n",
       "    <tr>\n",
       "      <th>0</th>\n",
       "      <td>0000</td>\n",
       "      <td>0009</td>\n",
       "    </tr>\n",
       "    <tr>\n",
       "      <th>1</th>\n",
       "      <td>0000</td>\n",
       "      <td>0019</td>\n",
       "    </tr>\n",
       "    <tr>\n",
       "      <th>2</th>\n",
       "      <td>0000</td>\n",
       "      <td>0020</td>\n",
       "    </tr>\n",
       "    <tr>\n",
       "      <th>3</th>\n",
       "      <td>0000</td>\n",
       "      <td>0065</td>\n",
       "    </tr>\n",
       "    <tr>\n",
       "      <th>4</th>\n",
       "      <td>0000</td>\n",
       "      <td>0081</td>\n",
       "    </tr>\n",
       "  </tbody>\n",
       "</table>\n",
       "</div>"
      ],
      "text/plain": [
       "      0     1\n",
       "0  0000  0009\n",
       "1  0000  0019\n",
       "2  0000  0020\n",
       "3  0000  0065\n",
       "4  0000  0081"
      ]
     },
     "execution_count": 55,
     "metadata": {},
     "output_type": "execute_result"
    }
   ],
   "source": [
    "#これまでの交流会の班の列\n",
    "past_group_col = df.loc[:,\"21年度の班\":].columns.tolist()\n",
    "\n",
    "# 同じ班になったことのある人のデータ格納用データフレーム\n",
    "df_duplicated = pd.DataFrame()\n",
    "\n",
    "for past_group in past_group_col:\n",
    "\n",
    "    df_temp = df[['社員番号', past_group]]\n",
    "    \n",
    "    # 各グループごとにメンバーを抜き出して、重複メンバーデータフレームに追加\n",
    "    for group_num in df_temp['21年度の班'].dropna().unique():\n",
    "\n",
    "        group_member = df_temp.loc[df_temp['21年度の班']==group_num, '社員番号'].values\n",
    "        member_combination = itertools.combinations(group_member,2)\n",
    "        df_comb_temp = pd.DataFrame(member_combination)\n",
    "        \n",
    "        df_duplicated = pd.concat([df_duplicated,df_comb_temp],axis=0)\n",
    "        \n",
    "# 重複している行を削除\n",
    "df_duplicated.reset_index(drop=True,inplace=True)\n",
    "df_duplicated.drop_duplicates(inplace=True)\n",
    "\n",
    "df_duplicated.head()"
   ]
  },
  {
   "cell_type": "markdown",
   "id": "8dbf6b00",
   "metadata": {},
   "source": [
    "## 数理モデリングと実装\n",
    "グループ分けの条件に応じて、数理最適化の条件を決めていく"
   ]
  },
  {
   "cell_type": "code",
   "execution_count": 56,
   "id": "83a7a2cb",
   "metadata": {},
   "outputs": [],
   "source": [
    "# 数理モデルのインスタンス作成（今回は目的関数を最大化する）\n",
    "problem = pulp.LpProblem('ClassAssignmentProblem', pulp.LpMaximize)"
   ]
  },
  {
   "cell_type": "code",
   "execution_count": 57,
   "id": "eb01ee57",
   "metadata": {},
   "outputs": [
    {
     "name": "stdout",
     "output_type": "stream",
     "text": [
      "グループ数： 14\n",
      "メンバー数：7人〜8人\n"
     ]
    }
   ],
   "source": [
    "# 1グループ8人以内として何グループ作るか計算\n",
    "num_of_groups = math.ceil(len(df)/8)\n",
    "min_num_of_member = math.floor(len(df)/num_of_groups)\n",
    "max_num_of_member = math.ceil(len(df)/num_of_groups)\n",
    "\n",
    "print('グループ数：',num_of_groups)\n",
    "print(f'メンバー数：{min_num_of_member}人〜{max_num_of_member}人')"
   ]
  },
  {
   "cell_type": "code",
   "execution_count": 58,
   "id": "400500a6",
   "metadata": {},
   "outputs": [],
   "source": [
    "# 参加者のリスト\n",
    "participants_list = df['社員番号'].tolist()\n",
    "\n",
    "# 交流会のグループのリスト\n",
    "group_list = [f'{group+1}班' for group in range(num_of_groups)]\n",
    "\n",
    "# 参加者とグループのペアのリスト\n",
    "participant_group = [(p,g) for p in participants_list for g in group_list]\n",
    "\n",
    "# 生徒をどのクラスに割り当てるかを変数Xとして定義する\n",
    "# 各参加者が各グループに属するか否かを 0 or 1 で最適化するので、Binaryを指定\n",
    "x = pulp.LpVariable.dicts('x', participant_group, cat='Binary')"
   ]
  },
  {
   "cell_type": "markdown",
   "id": "f7653dde",
   "metadata": {},
   "source": [
    "### 要件1. \n",
    "**参加者（$p$）は、それぞれ1つのグループ（$g$）に割り当てる。**\n",
    "\n",
    "$$ \\sum_{g\\in G}x_{p,g}=1 \\qquad (p\\in P)$$"
   ]
  },
  {
   "cell_type": "code",
   "execution_count": 59,
   "id": "195ec184",
   "metadata": {},
   "outputs": [],
   "source": [
    "for p in participants_list:\n",
    "    problem.addConstraint(pulp.lpSum([x[p,g] for g in group_list])==1)"
   ]
  },
  {
   "cell_type": "markdown",
   "id": "4f5afb1d",
   "metadata": {},
   "source": [
    "### 要件2.\n",
    "**各クラスの人数は○人以上、○人以下とする**<br>\n",
    "先ほど求めた、各グループの下限、上限人数を設定\n",
    "\n",
    "$$ \\sum_{p\\in P}x_{p,g} \\leq max\\_member \\qquad (g\\in G)$$\n",
    "\n",
    "$$ \\sum_{p\\in P}x_{p,g} \\geq min\\_member \\qquad (g\\in G)$$"
   ]
  },
  {
   "cell_type": "code",
   "execution_count": 60,
   "id": "8724d95c",
   "metadata": {},
   "outputs": [],
   "source": [
    "for g in group_list:\n",
    "    problem.addConstraint(\n",
    "        pulp.lpSum([x[p,g] for p in participants_list]) >= min_num_of_member)\n",
    "    problem.addConstraint(\n",
    "        pulp.lpSum([x[p,g] for p in participants_list]) <= max_num_of_member)"
   ]
  },
  {
   "cell_type": "markdown",
   "id": "77a1e750",
   "metadata": {},
   "source": [
    "### 要件4. \n",
    "- 同じ部署の人が同じグループにならないようにする\n",
    "\n",
    "各部署に対して、各グループに何人以上〜何人以下であればOKなのか計算する。<br>\n",
    "例）e部署が22人参加なので、14グループで割ると1グループあたり1人以上2人以下\n",
    "\n",
    "$$ \\sum_{p\\in P_{head.}}x_{p,g} \\geq 最小人数 \\qquad (g\\in G)$$\n",
    "$$ \\sum_{p\\in P_{head.}}x_{p,g} \\leq 最大人数 \\qquad (g\\in G)$$"
   ]
  },
  {
   "cell_type": "code",
   "execution_count": 61,
   "id": "8a425481",
   "metadata": {},
   "outputs": [
    {
     "name": "stdout",
     "output_type": "stream",
     "text": [
      "a部署:0名〜1名\n",
      "b部署:0名〜1名\n",
      "c部署:0名〜1名\n",
      "d部署:0名〜1名\n",
      "e部署:1名〜2名\n",
      "f部署:0名〜1名\n",
      "g部署:0名〜1名\n",
      "h部署:0名〜1名\n",
      "i部署:0名〜1名\n",
      "j部署:0名〜1名\n",
      "k部署:0名〜1名\n",
      "l部署:0名〜1名\n",
      "m部署:0名〜1名\n",
      "n部署:0名〜1名\n",
      "o部署:0名〜1名\n"
     ]
    }
   ],
   "source": [
    "# 各部署の人のリスト\n",
    "for head_temp in df['部署名'].unique():\n",
    "    head_part_list = df.loc[df['部署名']==head_temp,'社員番号'].tolist()\n",
    "\n",
    "    max_num_temp = math.ceil(len(head_part_list)/num_of_groups)\n",
    "    min_num_temp = math.floor(len(head_part_list)/num_of_groups)\n",
    "    print(f'{head_temp}:{min_num_temp}名〜{max_num_temp}名')\n",
    "\n",
    "    for g in group_list:\n",
    "        problem.addConstraint(\n",
    "            pulp.lpSum([x[p,g] for p in head_part_list]) <= max_num_temp)\n",
    "        problem.addConstraint(\n",
    "            pulp.lpSum([x[p,g] for p in head_part_list]) >= min_num_temp)"
   ]
  },
  {
   "cell_type": "markdown",
   "id": "08750be1",
   "metadata": {},
   "source": [
    "### 要件5. \n",
    "- 同じ勤務地の人が同じグループにならないようにする\n",
    "\n",
    "各本部に対して、各グループに何人以上〜何人以下であればOKなのか計算する。<br>\n",
    "例）本社勤務が65人参加なので、14グループで割ると1グループあたり4人以上5人以下\n",
    "\n",
    "$$ \\sum_{p\\in P_{place.}}x_{p,g} \\geq 最小人数 \\qquad (g\\in G)$$\n",
    "$$ \\sum_{p\\in P_{place.}}x_{p,g} \\leq 最大人数 \\qquad (g\\in G)$$"
   ]
  },
  {
   "cell_type": "code",
   "execution_count": 62,
   "id": "c995a320",
   "metadata": {},
   "outputs": [
    {
     "name": "stdout",
     "output_type": "stream",
     "text": [
      "大阪:2名〜3名\n",
      "東京:4名〜5名\n",
      "名古屋:0名〜1名\n"
     ]
    }
   ],
   "source": [
    "# 各地区の人のリスト\n",
    "for place_temp in df['勤務地'].unique():\n",
    "    place_part_list = df.loc[df['勤務地']==place_temp,'社員番号'].tolist()\n",
    "\n",
    "    max_num_temp = math.ceil(len(place_part_list)/num_of_groups)\n",
    "    min_num_temp = math.floor(len(place_part_list)/num_of_groups)\n",
    "    print(f'{place_temp}:{min_num_temp}名〜{max_num_temp}名')\n",
    "\n",
    "    for g in group_list:\n",
    "        problem.addConstraint(\n",
    "            pulp.lpSum([x[p,g] for p in place_part_list]) <= max_num_temp)\n",
    "        problem.addConstraint(\n",
    "            pulp.lpSum([x[p,g] for p in place_part_list]) >= min_num_temp)"
   ]
  },
  {
   "cell_type": "markdown",
   "id": "c8b6816b",
   "metadata": {},
   "source": [
    "### 要件6. 過去同じグループになったペアは、同一班に割り当てない\n",
    "\n",
    "ある参加者があるグループに属するかどうか $x_{p1,g}$ は、0 or 1 で表されているので、\n",
    "「特定のペア（p1とp2）が同一グループに属さない」という条件は以下の式で表される。\n",
    "\n",
    "$$ x_{p1,g} + x_{p2,g} \\leq 1 \\qquad (c\\in C, (s1,s2)\\in SS)$$"
   ]
  },
  {
   "cell_type": "code",
   "execution_count": 63,
   "id": "8fa68202",
   "metadata": {},
   "outputs": [],
   "source": [
    "# 特定のペアのリスト\n",
    "pair_list = df_duplicated.values.tolist()\n",
    "\n",
    "# 特定ペアの生徒\n",
    "for p1, p2 in pair_list:\n",
    "    for g in group_list:\n",
    "        problem.addConstraint(x[p1,g] + x[p2,g] <= 1)"
   ]
  },
  {
   "cell_type": "markdown",
   "id": "ad3ce5e5",
   "metadata": {},
   "source": [
    "### 要件7. 入社年度がなるべくバラけるようにする\n",
    "\n",
    "以下の手順で数理最適化モデルに落とし込む\n",
    "1. 入社年度順で生徒を各グループに割り当てる（初期グループ案）\n",
    "2. グループ間で配置換えを繰り返し、要件を満たすようにグループを再編する（グループ案）<br>\n",
    "（要するに、入社年度を考慮して決めた初期グループ案と、近いグループ案が採用されるようにする）\n",
    "\n",
    "<br>\n",
    "\n",
    "----\n",
    "<br>\n",
    "\n",
    "- **定数**：初期クラスの編成フラグ\n",
    "$$init\\_flag_{p,g} \\qquad (p \\in{P}, g\\in{G})$$\n",
    "\n",
    "<br>\n",
    "\n",
    "- **目的関数**：初期グループ編成と、グループ案をできるだけ一致させる\n",
    "$$ maximize \\quad \\sum_{p\\in{P},g\\in{G}} x_{p,g}\\centerdot init\\_flag_{p,g}$$\n",
    "\n",
    "補足説明：ある参加者がグループに初期グループ案、グループ案の両方に属するのならば、$1\\times1$ で1を取る、それ以外の場合は、どちらかが0になるので0を取る。"
   ]
  },
  {
   "cell_type": "code",
   "execution_count": 64,
   "id": "fe8803bf",
   "metadata": {},
   "outputs": [],
   "source": [
    "# 初期グループ案を作成\n",
    "# 入社年度を基に順位を付与する\n",
    "df['score_rank'] = df['年目'].rank(ascending=False, method='first') \n",
    "df['init_group'] = df['score_rank'].map(lambda x:x % num_of_groups)\n",
    "\n",
    "# 班名に変換\n",
    "group_dict = {i:group for i, group in enumerate(group_list)}\n",
    "df['init_group'] = df['init_group'].map(group_dict)"
   ]
  },
  {
   "cell_type": "code",
   "execution_count": 65,
   "id": "b745cb78",
   "metadata": {},
   "outputs": [],
   "source": [
    "# init_flagを作成\n",
    "init_flag = {(p,g):0 for p in participants_list for g in group_list}\n",
    "\n",
    "for row in df.itertuples():\n",
    "    init_flag[row.社員番号, row.init_group] = 1"
   ]
  },
  {
   "cell_type": "code",
   "execution_count": 66,
   "id": "bb19e691",
   "metadata": {},
   "outputs": [],
   "source": [
    "# 目的関数:初期クラス編成と最適化結果のクラス編成をできるだけ一致させる\n",
    "problem.setObjective(\n",
    "    pulp.lpSum([x[p,g] * init_flag[p,g] for p,g in participant_group]))"
   ]
  },
  {
   "cell_type": "markdown",
   "id": "19baa228",
   "metadata": {},
   "source": [
    "## 最適化を解く\n",
    "\n",
    "#### status（返り値）とpulp.LpStatusについて\n",
    "- status:1, pulp.LpStatus:Optimal => 最適解が得られている\n",
    "- status:0, pulp.LpStatus:Not Solved => 最適解が得られなかった\n",
    "- status:-1, pulp.LpStatus:Ifeasible => そもそも問題に解が存在しない"
   ]
  },
  {
   "cell_type": "code",
   "execution_count": 67,
   "id": "4e020768",
   "metadata": {},
   "outputs": [
    {
     "name": "stdout",
     "output_type": "stream",
     "text": [
      "Welcome to the CBC MILP Solver \n",
      "Version: 2.10.5 \n",
      "Build Date: Apr 19 2021 \n",
      "\n",
      "command line - cbc /var/folders/v1/l4zx71ts54b284yr6fl2nnch0000gn/T/f552dee720d74756a74888980fab79b7-pulp.mps max timeMode elapsed branch printingOptions all solution /var/folders/v1/l4zx71ts54b284yr6fl2nnch0000gn/T/f552dee720d74756a74888980fab79b7-pulp.sol (default strategy 1)\n",
      "At line 2 NAME          MODEL\n",
      "At line 3 ROWS\n",
      "At line 2197 COLUMNS\n",
      "At line 18768 RHS\n",
      "At line 20961 BOUNDS\n",
      "At line 22446 ENDATA\n",
      "Problem MODEL has 2192 rows, 1484 columns and 13496 elements\n",
      "Coin0008I MODEL read with 0 errors\n",
      "Option for timeMode changed from cpu to elapsed\n",
      "Continuous objective value is 82 - 0.01 seconds\n",
      "Cgl0003I 0 fixed, 0 tightened bounds, 1540 strengthened rows, 0 substitutions\n",
      "Cgl0003I 0 fixed, 0 tightened bounds, 1036 strengthened rows, 0 substitutions\n",
      "Cgl0003I 0 fixed, 0 tightened bounds, 658 strengthened rows, 0 substitutions\n",
      "Cgl0003I 0 fixed, 0 tightened bounds, 336 strengthened rows, 0 substitutions\n",
      "Cgl0003I 0 fixed, 0 tightened bounds, 126 strengthened rows, 0 substitutions\n",
      "Cgl0003I 0 fixed, 0 tightened bounds, 28 strengthened rows, 0 substitutions\n",
      "Cgl0003I 0 fixed, 0 tightened bounds, 14 strengthened rows, 0 substitutions\n",
      "Cgl0004I processed model has 470 rows, 1484 columns (1484 integer (1484 of which binary)) and 6468 elements\n",
      "Cutoff increment increased from 1e-05 to 0.9999\n",
      "Cbc0038I Initial state - 0 integers unsatisfied sum - 0\n",
      "Cbc0038I Solution found of -82\n",
      "Cbc0038I Before mini branch and bound, 1484 integers at bound fixed and 0 continuous\n",
      "Cbc0038I Mini branch and bound did not improve solution (0.18 seconds)\n",
      "Cbc0038I After 0.18 seconds - Feasibility pump exiting with objective of -82 - took 0.00 seconds\n",
      "Cbc0012I Integer solution of -82 found by feasibility pump after 0 iterations and 0 nodes (0.18 seconds)\n",
      "Cbc0001I Search completed - best objective -82, took 0 iterations and 0 nodes (0.19 seconds)\n",
      "Cbc0035I Maximum depth 0, 0 variables fixed on reduced cost\n",
      "Cuts at root node changed objective from -82 to -82\n",
      "Probing was tried 0 times and created 0 cuts of which 0 were active after adding rounds of cuts (0.000 seconds)\n",
      "Gomory was tried 0 times and created 0 cuts of which 0 were active after adding rounds of cuts (0.000 seconds)\n",
      "Knapsack was tried 0 times and created 0 cuts of which 0 were active after adding rounds of cuts (0.000 seconds)\n",
      "Clique was tried 0 times and created 0 cuts of which 0 were active after adding rounds of cuts (0.000 seconds)\n",
      "MixedIntegerRounding2 was tried 0 times and created 0 cuts of which 0 were active after adding rounds of cuts (0.000 seconds)\n",
      "FlowCover was tried 0 times and created 0 cuts of which 0 were active after adding rounds of cuts (0.000 seconds)\n",
      "TwoMirCuts was tried 0 times and created 0 cuts of which 0 were active after adding rounds of cuts (0.000 seconds)\n",
      "ZeroHalf was tried 0 times and created 0 cuts of which 0 were active after adding rounds of cuts (0.000 seconds)\n",
      "\n",
      "Result - Optimal solution found\n",
      "\n",
      "Objective value:                82.00000000\n",
      "Enumerated nodes:               0\n",
      "Total iterations:               0\n",
      "Time (CPU seconds):             0.15\n",
      "Time (Wallclock seconds):       0.20\n",
      "\n",
      "Option for printingOptions changed from normal to all\n",
      "Total time (CPU seconds):       0.16   (Wallclock seconds):       0.23\n",
      "\n",
      "##########\n",
      "1\n",
      "Optimal\n",
      "##########\n"
     ]
    }
   ],
   "source": [
    "status = problem.solve()\n",
    "print('##########')\n",
    "print(status)\n",
    "print(pulp.LpStatus[status])\n",
    "print(\"##########\")"
   ]
  },
  {
   "cell_type": "code",
   "execution_count": 68,
   "id": "5999fe7c",
   "metadata": {},
   "outputs": [],
   "source": [
    "#　結果の抜き出し\n",
    "result_array = [[key[0],key[1]] for key in x.keys() if x[key].value()==1]\n",
    "df_result = pd.DataFrame(result_array, columns=['社員番号','グループ案'])\n",
    "df_result.sort_values('グループ案',inplace=True)\n",
    "\n",
    "# 社員のデータと結合\n",
    "merge_cols = ['社員番号','年目','部署名','氏名','勤務地'] + past_group_col\n",
    "df_result = pd.merge(df_result, df.loc[:, merge_cols], on='社員番号')"
   ]
  },
  {
   "cell_type": "code",
   "execution_count": 70,
   "id": "ac4b4777",
   "metadata": {},
   "outputs": [
    {
     "data": {
      "text/html": [
       "<div>\n",
       "<style scoped>\n",
       "    .dataframe tbody tr th:only-of-type {\n",
       "        vertical-align: middle;\n",
       "    }\n",
       "\n",
       "    .dataframe tbody tr th {\n",
       "        vertical-align: top;\n",
       "    }\n",
       "\n",
       "    .dataframe thead th {\n",
       "        text-align: right;\n",
       "    }\n",
       "</style>\n",
       "<table border=\"1\" class=\"dataframe\">\n",
       "  <thead>\n",
       "    <tr style=\"text-align: right;\">\n",
       "      <th></th>\n",
       "      <th>社員番号</th>\n",
       "      <th>グループ案</th>\n",
       "      <th>年目</th>\n",
       "      <th>部署名</th>\n",
       "      <th>氏名</th>\n",
       "      <th>勤務地</th>\n",
       "      <th>21年度の班</th>\n",
       "    </tr>\n",
       "  </thead>\n",
       "  <tbody>\n",
       "    <tr>\n",
       "      <th>0</th>\n",
       "      <td>0049</td>\n",
       "      <td>10班</td>\n",
       "      <td>2</td>\n",
       "      <td>e部署</td>\n",
       "      <td>斎藤 あすか</td>\n",
       "      <td>大阪</td>\n",
       "      <td>NaN</td>\n",
       "    </tr>\n",
       "    <tr>\n",
       "      <th>1</th>\n",
       "      <td>0081</td>\n",
       "      <td>10班</td>\n",
       "      <td>14</td>\n",
       "      <td>g部署</td>\n",
       "      <td>田中 充</td>\n",
       "      <td>東京</td>\n",
       "      <td>4</td>\n",
       "    </tr>\n",
       "    <tr>\n",
       "      <th>2</th>\n",
       "      <td>0067</td>\n",
       "      <td>10班</td>\n",
       "      <td>8</td>\n",
       "      <td>n部署</td>\n",
       "      <td>高橋 治</td>\n",
       "      <td>大阪</td>\n",
       "      <td>NaN</td>\n",
       "    </tr>\n",
       "    <tr>\n",
       "      <th>3</th>\n",
       "      <td>0031</td>\n",
       "      <td>10班</td>\n",
       "      <td>15</td>\n",
       "      <td>h部署</td>\n",
       "      <td>加藤 篤司</td>\n",
       "      <td>大阪</td>\n",
       "      <td>1</td>\n",
       "    </tr>\n",
       "    <tr>\n",
       "      <th>4</th>\n",
       "      <td>0087</td>\n",
       "      <td>10班</td>\n",
       "      <td>6</td>\n",
       "      <td>d部署</td>\n",
       "      <td>斎藤 七夏</td>\n",
       "      <td>東京</td>\n",
       "      <td>NaN</td>\n",
       "    </tr>\n",
       "    <tr>\n",
       "      <th>5</th>\n",
       "      <td>0022</td>\n",
       "      <td>10班</td>\n",
       "      <td>11</td>\n",
       "      <td>a部署</td>\n",
       "      <td>高橋 智也</td>\n",
       "      <td>東京</td>\n",
       "      <td>6</td>\n",
       "    </tr>\n",
       "    <tr>\n",
       "      <th>6</th>\n",
       "      <td>0016</td>\n",
       "      <td>10班</td>\n",
       "      <td>3</td>\n",
       "      <td>e部署</td>\n",
       "      <td>渡辺 浩</td>\n",
       "      <td>東京</td>\n",
       "      <td>9</td>\n",
       "    </tr>\n",
       "    <tr>\n",
       "      <th>7</th>\n",
       "      <td>0000</td>\n",
       "      <td>11班</td>\n",
       "      <td>18</td>\n",
       "      <td>a部署</td>\n",
       "      <td>田中 直人</td>\n",
       "      <td>大阪</td>\n",
       "      <td>4</td>\n",
       "    </tr>\n",
       "    <tr>\n",
       "      <th>8</th>\n",
       "      <td>0063</td>\n",
       "      <td>11班</td>\n",
       "      <td>3</td>\n",
       "      <td>h部署</td>\n",
       "      <td>山田 淳</td>\n",
       "      <td>東京</td>\n",
       "      <td>NaN</td>\n",
       "    </tr>\n",
       "    <tr>\n",
       "      <th>9</th>\n",
       "      <td>0072</td>\n",
       "      <td>11班</td>\n",
       "      <td>2</td>\n",
       "      <td>e部署</td>\n",
       "      <td>伊藤 翼</td>\n",
       "      <td>東京</td>\n",
       "      <td>NaN</td>\n",
       "    </tr>\n",
       "  </tbody>\n",
       "</table>\n",
       "</div>"
      ],
      "text/plain": [
       "   社員番号 グループ案  年目  部署名      氏名 勤務地 21年度の班\n",
       "0  0049   10班   2  e部署  斎藤 あすか  大阪    NaN\n",
       "1  0081   10班  14  g部署    田中 充  東京      4\n",
       "2  0067   10班   8  n部署    高橋 治  大阪    NaN\n",
       "3  0031   10班  15  h部署   加藤 篤司  大阪      1\n",
       "4  0087   10班   6  d部署   斎藤 七夏  東京    NaN\n",
       "5  0022   10班  11  a部署   高橋 智也  東京      6\n",
       "6  0016   10班   3  e部署    渡辺 浩  東京      9\n",
       "7  0000   11班  18  a部署   田中 直人  大阪      4\n",
       "8  0063   11班   3  h部署    山田 淳  東京    NaN\n",
       "9  0072   11班   2  e部署    伊藤 翼  東京    NaN"
      ]
     },
     "execution_count": 70,
     "metadata": {},
     "output_type": "execute_result"
    }
   ],
   "source": [
    "df_result.head(10)"
   ]
  },
  {
   "cell_type": "code",
   "execution_count": 49,
   "id": "692019c2",
   "metadata": {
    "scrolled": false
   },
   "outputs": [],
   "source": [
    "# 初期グループ案の確認（入社年度でヒスとグラム作成）\n",
    "import matplotlib.pyplot as plt\n",
    "for g in df_result['グループ案'].unique():\n",
    "    year_temp = df_result.loc[df_result['グループ案']==g,'年目'].values\n",
    "    \n",
    "    plt.figure()\n",
    "    plt.hist(year_temp)\n",
    "    plt.title(g)\n",
    "    plt.show()"
   ]
  },
  {
   "cell_type": "code",
   "execution_count": 50,
   "id": "f72341e7",
   "metadata": {},
   "outputs": [],
   "source": [
    "df_result.to_excel(r'グループ分け案.xlsx',index=False)"
   ]
  }
 ],
 "metadata": {
  "kernelspec": {
   "display_name": "Python 3 (ipykernel)",
   "language": "python",
   "name": "python3"
  },
  "language_info": {
   "codemirror_mode": {
    "name": "ipython",
    "version": 3
   },
   "file_extension": ".py",
   "mimetype": "text/x-python",
   "name": "python",
   "nbconvert_exporter": "python",
   "pygments_lexer": "ipython3",
   "version": "3.9.10"
  }
 },
 "nbformat": 4,
 "nbformat_minor": 5
}
